{
  "nbformat": 4,
  "nbformat_minor": 0,
  "metadata": {
    "colab": {
      "provenance": [],
      "collapsed_sections": [],
      "include_colab_link": true
    },
    "kernelspec": {
      "name": "python3",
      "display_name": "Python 3"
    },
    "language_info": {
      "name": "python"
    }
  },
  "cells": [
    {
      "cell_type": "markdown",
      "metadata": {
        "id": "view-in-github",
        "colab_type": "text"
      },
      "source": [
        "<a href=\"https://colab.research.google.com/github/Eitan-zw/Eitan-zw/blob/main/SP500_DATA_MINE.ipynb\" target=\"_parent\"><img src=\"https://colab.research.google.com/assets/colab-badge.svg\" alt=\"Open In Colab\"/></a>"
      ]
    },
    {
      "cell_type": "code",
      "execution_count": null,
      "metadata": {
        "id": "O-i3i_PxEbT7",
        "colab": {
          "base_uri": "https://localhost:8080/"
        },
        "outputId": "406fd9a8-33bc-4656-ff14-b40393fde0f9"
      },
      "outputs": [
        {
          "output_type": "stream",
          "name": "stdout",
          "text": [
            "Looking in indexes: https://pypi.org/simple, https://us-python.pkg.dev/colab-wheels/public/simple/\n",
            "Collecting yfinance\n",
            "  Downloading yfinance-0.1.70-py2.py3-none-any.whl (26 kB)\n",
            "Collecting lxml>=4.5.1\n",
            "  Downloading lxml-4.9.0-cp37-cp37m-manylinux_2_17_x86_64.manylinux2014_x86_64.manylinux_2_24_x86_64.whl (6.4 MB)\n",
            "\u001b[K     |████████████████████████████████| 6.4 MB 12.0 MB/s \n",
            "\u001b[?25hRequirement already satisfied: numpy>=1.15 in /usr/local/lib/python3.7/dist-packages (from yfinance) (1.21.6)\n",
            "Requirement already satisfied: multitasking>=0.0.7 in /usr/local/lib/python3.7/dist-packages (from yfinance) (0.0.10)\n",
            "Collecting requests>=2.26\n",
            "  Downloading requests-2.27.1-py2.py3-none-any.whl (63 kB)\n",
            "\u001b[K     |████████████████████████████████| 63 kB 454 kB/s \n",
            "\u001b[?25hRequirement already satisfied: pandas>=0.24.0 in /usr/local/lib/python3.7/dist-packages (from yfinance) (1.3.5)\n",
            "Requirement already satisfied: python-dateutil>=2.7.3 in /usr/local/lib/python3.7/dist-packages (from pandas>=0.24.0->yfinance) (2.8.2)\n",
            "Requirement already satisfied: pytz>=2017.3 in /usr/local/lib/python3.7/dist-packages (from pandas>=0.24.0->yfinance) (2022.1)\n",
            "Requirement already satisfied: six>=1.5 in /usr/local/lib/python3.7/dist-packages (from python-dateutil>=2.7.3->pandas>=0.24.0->yfinance) (1.15.0)\n",
            "Requirement already satisfied: urllib3<1.27,>=1.21.1 in /usr/local/lib/python3.7/dist-packages (from requests>=2.26->yfinance) (1.24.3)\n",
            "Requirement already satisfied: certifi>=2017.4.17 in /usr/local/lib/python3.7/dist-packages (from requests>=2.26->yfinance) (2022.5.18.1)\n",
            "Requirement already satisfied: charset-normalizer~=2.0.0 in /usr/local/lib/python3.7/dist-packages (from requests>=2.26->yfinance) (2.0.12)\n",
            "Requirement already satisfied: idna<4,>=2.5 in /usr/local/lib/python3.7/dist-packages (from requests>=2.26->yfinance) (2.10)\n",
            "Installing collected packages: requests, lxml, yfinance\n",
            "  Attempting uninstall: requests\n",
            "    Found existing installation: requests 2.23.0\n",
            "    Uninstalling requests-2.23.0:\n",
            "      Successfully uninstalled requests-2.23.0\n",
            "  Attempting uninstall: lxml\n",
            "    Found existing installation: lxml 4.2.6\n",
            "    Uninstalling lxml-4.2.6:\n",
            "      Successfully uninstalled lxml-4.2.6\n",
            "\u001b[31mERROR: pip's dependency resolver does not currently take into account all the packages that are installed. This behaviour is the source of the following dependency conflicts.\n",
            "google-colab 1.0.0 requires requests~=2.23.0, but you have requests 2.27.1 which is incompatible.\n",
            "datascience 0.10.6 requires folium==0.2.1, but you have folium 0.8.3 which is incompatible.\u001b[0m\n",
            "Successfully installed lxml-4.9.0 requests-2.27.1 yfinance-0.1.70\n"
          ]
        }
      ],
      "source": [
        "# Import packages\n",
        "import pandas as pd\n",
        "!pip install yfinance\n",
        "import yfinance as yf\n",
        "\n"
      ]
    },
    {
      "cell_type": "code",
      "source": [
        "# Read and print the stock tickers that make up S&P500\n",
        "tickers = pd.read_html(\n",
        "    'https://en.wikipedia.org/wiki/List_of_S%26P_500_companies')[0]\n",
        "#print(tickers.head())"
      ],
      "metadata": {
        "id": "fgYvj0vvEoUA"
      },
      "execution_count": null,
      "outputs": []
    },
    {
      "cell_type": "code",
      "source": [
        "# Get the data for this tickers from yahoo finance\n",
        "data = yf.download(tickers.Symbol.to_list(),start = '2021-12-9',end = '2022-2-7', interval = \"1h\" ,auto_adjust=True)['Close'] "
      ],
      "metadata": {
        "colab": {
          "base_uri": "https://localhost:8080/"
        },
        "id": "XClYvQuVEqoU",
        "outputId": "7bccb8fd-64ec-4fe6-fa98-92498e2bec47"
      },
      "execution_count": null,
      "outputs": [
        {
          "output_type": "stream",
          "name": "stdout",
          "text": [
            "[*********************100%***********************]  504 of 504 completed\n",
            "\n",
            "5 Failed downloads:\n",
            "- BALL: No data found for this date range, symbol may be delisted\n",
            "- BRK.B: No data found, symbol may be delisted\n",
            "- WBD: No data found for this date range, symbol may be delisted\n",
            "- PARA: No data found for this date range, symbol may be delisted\n",
            "- BF.B: No data found for this date range, symbol may be delisted\n"
          ]
        }
      ]
    },
    {
      "cell_type": "code",
      "source": [
        "Filtered_Data_empty_days = data.dropna(axis='rows',how ='all')\n",
        "Filtered_Data = Filtered_Data_empty_days.dropna(axis='columns')"
      ],
      "metadata": {
        "id": "z4UqnAN_TvTR"
      },
      "execution_count": null,
      "outputs": []
    },
    {
      "cell_type": "code",
      "source": [
        "Filtered_Data.to_csv('2021-12-9_2022-2-7_H.csv')"
      ],
      "metadata": {
        "id": "W9YewkzvVWKF"
      },
      "execution_count": null,
      "outputs": []
    },
    {
      "cell_type": "code",
      "source": [
        "print(data.head())\n",
        "data1 = data.iloc[1: , :]"
      ],
      "metadata": {
        "id": "i9SD-La8KxST",
        "colab": {
          "base_uri": "https://localhost:8080/"
        },
        "outputId": "74e242f4-5612-46dc-b3fb-e707555c62fe"
      },
      "execution_count": null,
      "outputs": [
        {
          "output_type": "stream",
          "name": "stdout",
          "text": [
            "                                    A        AAL         AAP        AAPL  \\\n",
            "2021-12-09 09:30:00-05:00  156.690002  18.030100  234.050003  174.039993   \n",
            "2021-12-09 10:30:00-05:00  156.229996  17.950100  234.414993  175.590302   \n",
            "2021-12-09 11:30:00-05:00  155.677094  18.051100  234.720001  175.115005   \n",
            "2021-12-09 12:30:00-05:00  155.940002  18.040001  235.470001  175.320007   \n",
            "2021-12-09 13:30:00-05:00  155.529999  18.094999  235.014999  175.699997   \n",
            "\n",
            "                                 ABBV         ABC        ABMD         ABT  \\\n",
            "2021-12-09 09:30:00-05:00  123.480003  121.870003  324.429993  132.669998   \n",
            "2021-12-09 10:30:00-05:00  123.489998  122.040001  321.334991  133.020004   \n",
            "2021-12-09 11:30:00-05:00  123.650002  121.559998  321.109985  132.860001   \n",
            "2021-12-09 12:30:00-05:00  124.169998  121.873596  320.010010  132.690002   \n",
            "2021-12-09 13:30:00-05:00  124.250000  122.089996  319.220001  132.919998   \n",
            "\n",
            "                                  ACN        ADBE  ...       WYNN        XEL  \\\n",
            "2021-12-09 09:30:00-05:00  371.089996  646.500000  ...  87.699997  66.889999   \n",
            "2021-12-09 10:30:00-05:00  373.160004  647.844971  ...  87.760002  67.019997   \n",
            "2021-12-09 11:30:00-05:00  372.010010  643.919983  ...  87.910004  66.949997   \n",
            "2021-12-09 12:30:00-05:00  373.309998  639.635010  ...  88.230003  67.059998   \n",
            "2021-12-09 13:30:00-05:00  372.459991  636.049988  ...  88.419998  67.065002   \n",
            "\n",
            "                                 XOM       XRAY         XYL         YUM  \\\n",
            "2021-12-09 09:30:00-05:00  62.220001  53.000000  122.945000  132.369995   \n",
            "2021-12-09 10:30:00-05:00  62.220001  53.160000  123.596802  132.899994   \n",
            "2021-12-09 11:30:00-05:00  62.264999  53.099998  123.239998  133.259995   \n",
            "2021-12-09 12:30:00-05:00  62.490002  53.189999  123.500000  134.005005   \n",
            "2021-12-09 13:30:00-05:00  62.639999  53.189999  123.315002  134.000000   \n",
            "\n",
            "                                  ZBH        ZBRA       ZION         ZTS  \n",
            "2021-12-09 09:30:00-05:00  127.050003  609.359985  63.029999  228.850006  \n",
            "2021-12-09 10:30:00-05:00  127.129997  607.155029  63.029999  229.649994  \n",
            "2021-12-09 11:30:00-05:00  125.500000  603.135010  63.660000  229.360001  \n",
            "2021-12-09 12:30:00-05:00  125.735001  602.440002  63.970001  229.330002  \n",
            "2021-12-09 13:30:00-05:00  126.120003  600.825012  63.740002  230.270004  \n",
            "\n",
            "[5 rows x 504 columns]\n"
          ]
        }
      ]
    }
  ]
}